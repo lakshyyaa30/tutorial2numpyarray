{
 "cells": [
  {
   "cell_type": "code",
   "execution_count": 1,
   "id": "1456a5a8-dd2a-4ec3-bc5f-384310de7a23",
   "metadata": {},
   "outputs": [
    {
     "name": "stdout",
     "output_type": "stream",
     "text": [
      "Element at [0][0][0]: 1\n",
      "Element at [1][1][1]: 14\n",
      "Element at [2][2][2]: 27\n",
      "Modified element at [1][1][1]: 99\n",
      "Element at [0][0][0] is 1\n",
      "Element at [0][0][1] is 2\n",
      "Element at [0][0][2] is 3\n",
      "Element at [0][1][0] is 4\n",
      "Element at [0][1][1] is 5\n",
      "Element at [0][1][2] is 6\n",
      "Element at [0][2][0] is 7\n",
      "Element at [0][2][1] is 8\n",
      "Element at [0][2][2] is 9\n",
      "Element at [1][0][0] is 10\n",
      "Element at [1][0][1] is 11\n",
      "Element at [1][0][2] is 12\n",
      "Element at [1][1][0] is 13\n",
      "Element at [1][1][1] is 99\n",
      "Element at [1][1][2] is 15\n",
      "Element at [1][2][0] is 16\n",
      "Element at [1][2][1] is 17\n",
      "Element at [1][2][2] is 18\n",
      "Element at [2][0][0] is 19\n",
      "Element at [2][0][1] is 20\n",
      "Element at [2][0][2] is 21\n",
      "Element at [2][1][0] is 22\n",
      "Element at [2][1][1] is 23\n",
      "Element at [2][1][2] is 24\n",
      "Element at [2][2][0] is 25\n",
      "Element at [2][2][1] is 26\n",
      "Element at [2][2][2] is 27\n"
     ]
    }
   ],
   "source": [
    "\n",
    "array_3d = [\n",
    "    [[1, 2, 3], [4, 5, 6], [7, 8, 9]],\n",
    "    [[10, 11, 12], [13, 14, 15], [16, 17, 18]],\n",
    "    [[19, 20, 21], [22, 23, 24], [25, 26, 27]]\n",
    "]\n",
    "\n",
    "print(\"Element at [0][0][0]:\", array_3d[0][0][0])  # Output: 1\n",
    "print(\"Element at [1][1][1]:\", array_3d[1][1][1])  # Output: 14\n",
    "print(\"Element at [2][2][2]:\", array_3d[2][2][2])  # Output: 27\n",
    "\n",
    "array_3d[1][1][1] = 99\n",
    "print(\"Modified element at [1][1][1]:\", array_3d[1][1][1])  # Output: 99\n",
    "\n",
    "\n",
    "for i in range(len(array_3d)):\n",
    "    for j in range(len(array_3d[i])):\n",
    "        for k in range(len(array_3d[i][j])):\n",
    "            print(f\"Element at [{i}][{j}][{k}] is {array_3d[i][j][k]}\")\n",
    "\n"
   ]
  },
  {
   "cell_type": "code",
   "execution_count": 7,
   "id": "78f38271-bf3f-4acc-95da-9746998aad77",
   "metadata": {},
   "outputs": [
    {
     "name": "stdout",
     "output_type": "stream",
     "text": [
      "2D Array:\n",
      "[[1 2 3]\n",
      " [4 5 6]\n",
      " [7 8 9]]\n",
      "\n",
      "Array Flags:\n",
      "  C_CONTIGUOUS : True\n",
      "  F_CONTIGUOUS : False\n",
      "  OWNDATA : True\n",
      "  WRITEABLE : True\n",
      "  ALIGNED : True\n",
      "  WRITEBACKIFCOPY : False\n",
      "\n"
     ]
    }
   ],
   "source": [
    "import numpy as np\n",
    "\n",
    "\n",
    "array_2d = np.array([[1, 2, 3], [4, 5, 6], [7, 8, 9]])\n",
    "\n",
    "\n",
    "print(\"2D Array:\")\n",
    "print(array_2d)\n",
    "\n",
    "\n",
    "print(\"\\nArray Flags:\")\n",
    "print(array_2d.flags)\n"
   ]
  },
  {
   "cell_type": "code",
   "execution_count": 9,
   "id": "5e388a81-cf15-4ad5-bd27-e86b1172b08b",
   "metadata": {},
   "outputs": [
    {
     "name": "stdout",
     "output_type": "stream",
     "text": [
      "2D Array:\n",
      "[[1 2 3]\n",
      " [4 5 6]\n",
      " [7 8 9]]\n",
      "\n",
      "Shape of the array: (3, 3)\n"
     ]
    }
   ],
   "source": [
    "import numpy as np\n",
    "\n",
    "\n",
    "array_2d = np.array([[1, 2, 3], [4, 5, 6], [7, 8, 9]])\n",
    "\n",
    "\n",
    "print(\"2D Array:\")\n",
    "print(array_2d)\n",
    "\n",
    "\n",
    "print(\"\\nShape of the array:\", array_2d.shape)\n"
   ]
  },
  {
   "cell_type": "code",
   "execution_count": 11,
   "id": "3c802439-9201-4a46-aff8-78bca5357725",
   "metadata": {},
   "outputs": [
    {
     "name": "stdout",
     "output_type": "stream",
     "text": [
      "2D Array:\n",
      "[[1 2 3]\n",
      " [4 5 6]\n",
      " [7 8 9]]\n",
      "\n",
      "Strides of the array: (12, 4)\n"
     ]
    }
   ],
   "source": [
    "import numpy as np\n",
    "\n",
    "\n",
    "array_2d = np.array([[1, 2, 3], [4, 5, 6], [7, 8, 9]])\n",
    "\n",
    "\n",
    "print(\"2D Array:\")\n",
    "print(array_2d)\n",
    "\n",
    "\n",
    "print(\"\\nStrides of the array:\", array_2d.strides)\n"
   ]
  },
  {
   "cell_type": "code",
   "execution_count": 13,
   "id": "885ff3b8-222e-4c01-90f3-22a360cab481",
   "metadata": {},
   "outputs": [
    {
     "name": "stdout",
     "output_type": "stream",
     "text": [
      "2D Array:\n",
      "[[1 2 3]\n",
      " [4 5 6]\n",
      " [7 8 9]]\n",
      "\n",
      "Number of dimensions (ndim) of the array: 2\n"
     ]
    }
   ],
   "source": [
    "import numpy as np\n",
    "\n",
    "\n",
    "array_2d = np.array([[1, 2, 3], [4, 5, 6], [7, 8, 9]])\n",
    "\n",
    "\n",
    "print(\"2D Array:\")\n",
    "print(array_2d)\n",
    "\n",
    "\n",
    "print(\"\\nNumber of dimensions (ndim) of the array:\", array_2d.ndim)\n"
   ]
  },
  {
   "cell_type": "code",
   "execution_count": 33,
   "id": "970c4fc1-4cd5-41c5-8c72-08cfcc36cfba",
   "metadata": {},
   "outputs": [
    {
     "name": "stdout",
     "output_type": "stream",
     "text": [
      "2D Array:\n",
      "[[1 2 3]\n",
      " [4 5 6]\n",
      " [7 8 9]]\n",
      "\n",
      "Data buffer of the array: <memory at 0x0000023EF6E6CA00>\n",
      "\n",
      "Array elements from data buffer: <memory at 0x0000023EF6E6CA00>\n"
     ]
    }
   ],
   "source": [
    "import numpy as np\n",
    "\n",
    "\n",
    "array_2d = np.array([[1, 2, 3], [4, 5, 6], [7, 8, 9]])\n",
    "\n",
    "\n",
    "print(\"2D Array:\")\n",
    "print(array_2d)\n",
    "\n",
    "\n",
    "print(\"\\nData buffer of the array:\", array_2d.data)\n",
    "\n",
    "\n",
    "print(\"\\nArray elements from data buffer:\",(array_2d.data))\n"
   ]
  },
  {
   "cell_type": "code",
   "execution_count": 19,
   "id": "027dad5b-ba34-4f79-a135-d78ba4c2a06b",
   "metadata": {},
   "outputs": [
    {
     "name": "stdout",
     "output_type": "stream",
     "text": [
      "2D Array:\n",
      "[[1 2 3]\n",
      " [4 5 6]\n",
      " [7 8 9]]\n",
      "\n",
      "Total number of elements in the array (size): 9\n"
     ]
    }
   ],
   "source": [
    "import numpy as np\n",
    "\n",
    "\n",
    "array_2d = np.array([[1, 2, 3], [4, 5, 6], [7, 8, 9]])\n",
    "\n",
    "\n",
    "print(\"2D Array:\")\n",
    "print(array_2d)\n",
    "\n",
    "\n",
    "print(\"\\nTotal number of elements in the array (size):\", array_2d.size)\n"
   ]
  },
  {
   "cell_type": "code",
   "execution_count": 21,
   "id": "348d0d5a-3114-40a5-b7d8-0931b772bba9",
   "metadata": {},
   "outputs": [
    {
     "name": "stdout",
     "output_type": "stream",
     "text": [
      "2D Array:\n",
      "[[1 2 3]\n",
      " [4 5 6]\n",
      " [7 8 9]]\n",
      "\n",
      "Size of each element in the array (itemsize): 4 bytes\n"
     ]
    }
   ],
   "source": [
    "import numpy as np\n",
    "\n",
    "array_2d = np.array([[1, 2, 3], [4, 5, 6], [7, 8, 9]])\n",
    "\n",
    "print(\"2D Array:\")\n",
    "print(array_2d)\n",
    "\n",
    "print(\"\\nSize of each element in the array (itemsize):\", array_2d.itemsize, \"bytes\")\n"
   ]
  },
  {
   "cell_type": "code",
   "execution_count": 23,
   "id": "3424e574-b5a3-4c9b-beff-b88e3ecc3fb9",
   "metadata": {},
   "outputs": [
    {
     "name": "stdout",
     "output_type": "stream",
     "text": [
      "Original 2D Array:\n",
      "[[1 2 3]\n",
      " [4 5 6]\n",
      " [7 8 9]]\n",
      "\n",
      "View of the 2D Array:\n",
      "[[5 6]\n",
      " [8 9]]\n",
      "\n",
      "Base of the original array: None\n",
      "Base of the view: [[1 2 3]\n",
      " [4 5 6]\n",
      " [7 8 9]]\n"
     ]
    }
   ],
   "source": [
    "import numpy as np\n",
    "\n",
    "\n",
    "array_2d = np.array([[1, 2, 3], [4, 5, 6], [7, 8, 9]])\n",
    "\n",
    "\n",
    "array_view = array_2d[1:, 1:]\n",
    "\n",
    "\n",
    "print(\"Original 2D Array:\")\n",
    "print(array_2d)\n",
    "\n",
    "\n",
    "print(\"\\nView of the 2D Array:\")\n",
    "print(array_view)\n",
    "\n",
    "\n",
    "print(\"\\nBase of the original array:\", array_2d.base)\n",
    "\n",
    "\n",
    "print(\"Base of the view:\", array_view.base)\n"
   ]
  },
  {
   "cell_type": "code",
   "execution_count": 25,
   "id": "6b4655ac-c073-4223-a635-06e66ee07d3c",
   "metadata": {},
   "outputs": [
    {
     "name": "stdout",
     "output_type": "stream",
     "text": [
      "2D Array:\n",
      "[[1 2 3]\n",
      " [4 5 6]\n",
      " [7 8 9]]\n",
      "\n",
      "Total number of bytes used by the array (nbytes): 36\n"
     ]
    }
   ],
   "source": [
    "import numpy as np\n",
    "\n",
    "array_2d = np.array([[1, 2, 3], [4, 5, 6], [7, 8, 9]])\n",
    "\n",
    "\n",
    "print(\"2D Array:\")\n",
    "print(array_2d)\n",
    "\n",
    "\n",
    "print(\"\\nTotal number of bytes used by the array (nbytes):\", array_2d.nbytes)\n"
   ]
  },
  {
   "cell_type": "code",
   "execution_count": 27,
   "id": "408c1778-0600-4346-96cb-94618af3550f",
   "metadata": {},
   "outputs": [
    {
     "name": "stdout",
     "output_type": "stream",
     "text": [
      "Original 2D Array:\n",
      "[[1 2 3]\n",
      " [4 5 6]\n",
      " [7 8 9]]\n",
      "\n",
      "Transposed 2D Array:\n",
      "[[1 4 7]\n",
      " [2 5 8]\n",
      " [3 6 9]]\n"
     ]
    }
   ],
   "source": [
    "import numpy as np\n",
    "\n",
    "\n",
    "array_2d = np.array([[1, 2, 3], [4, 5, 6], [7, 8, 9]])\n",
    "\n",
    "\n",
    "print(\"Original 2D Array:\")\n",
    "print(array_2d)\n",
    "\n",
    "\n",
    "array_transposed = array_2d.T\n",
    "\n",
    "\n",
    "print(\"\\nTransposed 2D Array:\")\n",
    "print(array_transposed)\n"
   ]
  },
  {
   "cell_type": "code",
   "execution_count": 29,
   "id": "add133e7-aa54-4995-8d8c-3ca97d2200b9",
   "metadata": {},
   "outputs": [
    {
     "name": "stdout",
     "output_type": "stream",
     "text": [
      "Original Complex 2D Array:\n",
      "[[ 1. +2.j  3. +4.j  5. +6.j]\n",
      " [ 7. +8.j  9.+10.j 11.+12.j]\n",
      " [13.+14.j 15.+16.j 17.+18.j]]\n",
      "\n",
      "Real Part of the 2D Array:\n",
      "[[ 1.  3.  5.]\n",
      " [ 7.  9. 11.]\n",
      " [13. 15. 17.]]\n"
     ]
    }
   ],
   "source": [
    "import numpy as np\n",
    "\n",
    "\n",
    "array_complex = np.array([[1+2j, 3+4j, 5+6j], [7+8j, 9+10j, 11+12j], [13+14j, 15+16j, 17+18j]])\n",
    "\n",
    "\n",
    "print(\"Original Complex 2D Array:\")\n",
    "print(array_complex)\n",
    "\n",
    "\n",
    "array_real = array_complex.real\n",
    "\n",
    "\n",
    "print(\"\\nReal Part of the 2D Array:\")\n",
    "print(array_real)\n"
   ]
  },
  {
   "cell_type": "code",
   "execution_count": 31,
   "id": "2f458778-d6c1-43b5-847f-d3cc36be9861",
   "metadata": {},
   "outputs": [
    {
     "name": "stdout",
     "output_type": "stream",
     "text": [
      "Original Complex 2D Array:\n",
      "[[ 1. +2.j  3. +4.j  5. +6.j]\n",
      " [ 7. +8.j  9.+10.j 11.+12.j]\n",
      " [13.+14.j 15.+16.j 17.+18.j]]\n",
      "\n",
      "Imaginary Part of the 2D Array:\n",
      "[[ 2.  4.  6.]\n",
      " [ 8. 10. 12.]\n",
      " [14. 16. 18.]]\n"
     ]
    }
   ],
   "source": [
    "import numpy as np\n",
    "\n",
    "\n",
    "array_complex = np.array([[1+2j, 3+4j, 5+6j], [7+8j, 9+10j, 11+12j], [13+14j, 15+16j, 17+18j]])\n",
    "\n",
    "\n",
    "print(\"Original Complex 2D Array:\")\n",
    "print(array_complex)\n",
    "\n",
    "\n",
    "array_imag = array_complex.imag\n",
    "\n",
    "\n",
    "print(\"\\nImaginary Part of the 2D Array:\")\n",
    "print(array_imag)\n"
   ]
  },
  {
   "cell_type": "code",
   "execution_count": null,
   "id": "678d5d9f-e30b-4343-9622-acc2e5e9d313",
   "metadata": {},
   "outputs": [],
   "source": []
  }
 ],
 "metadata": {
  "kernelspec": {
   "display_name": "Python 3 (ipykernel)",
   "language": "python",
   "name": "python3"
  },
  "language_info": {
   "codemirror_mode": {
    "name": "ipython",
    "version": 3
   },
   "file_extension": ".py",
   "mimetype": "text/x-python",
   "name": "python",
   "nbconvert_exporter": "python",
   "pygments_lexer": "ipython3",
   "version": "3.12.4"
  }
 },
 "nbformat": 4,
 "nbformat_minor": 5
}
